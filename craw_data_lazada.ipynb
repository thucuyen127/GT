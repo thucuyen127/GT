{
 "cells": [
  {
   "cell_type": "code",
   "execution_count": 4,
   "id": "71f1e9aa",
   "metadata": {},
   "outputs": [],
   "source": [
    "from selenium import webdriver\n",
    "from time import sleep\n",
    "from bs4 import BeautifulSoup\n",
    "from selenium.webdriver.common.keys import Keys\n",
    "import csv\n",
    "from datetime import date\n",
    "import random\n",
    "import requests"
   ]
  },
  {
   "cell_type": "code",
   "execution_count": 5,
   "id": "f2bffbe3",
   "metadata": {},
   "outputs": [
    {
     "name": "stderr",
     "output_type": "stream",
     "text": [
      "<ipython-input-5-955bd85e257e>:2: DeprecationWarning: executable_path has been deprecated, please pass in a Service object\n",
      "  driver = webdriver.Chrome(PATH)\n"
     ]
    }
   ],
   "source": [
    "PATH = r\"C:\\uyen\\chromedriver.exe\"\n",
    "driver = webdriver.Chrome(PATH)\n",
    "driver.get(\"https://www.lazada.vn/catalog/?q=%C4%91i%E1%BB%87n+tho%E1%BA%A1i&_keyori=ss&from=input&spm=a2o4n.searchlist.search.go.2c5024651vfP3x\")\n",
    "sleep(25)"
   ]
  },
  {
   "cell_type": "code",
   "execution_count": 6,
   "id": "0fded8d6",
   "metadata": {},
   "outputs": [
    {
     "name": "stderr",
     "output_type": "stream",
     "text": [
      "<ipython-input-6-3eaf86c93b99>:24: DeprecationWarning: find_element_by_* commands are deprecated. Please use find_element() instead\n",
      "  page = driver.find_element_by_xpath('//li[@class = \"ant-pagination-next\"][ @aria-disabled = \"false\"]')\n"
     ]
    }
   ],
   "source": [
    "#1 lazada web products\n",
    "\n",
    "\n",
    "\n",
    "products_URL = []\n",
    "ID_list = []\n",
    "for i in range(4):\n",
    "    # Scroll down to bottom\n",
    "    driver.execute_script(\"window.scrollTo(0, document.body.scrollHeight-500);\")\n",
    "    \n",
    "    # Wait to load page\n",
    "    sleep(random.randint(10,40))\n",
    "    page_source = BeautifulSoup(driver.page_source,  'html.parser')\n",
    "    products = page_source.find_all('div', class_='Bm3ON')\n",
    "    for product in products:\n",
    "        item_ID = product.get('data-item-id') #get item's ID\n",
    "        if item_ID not in ID_list:\n",
    "            ID_list.append(item_ID)\n",
    "            prd = product.find('a')\n",
    "            product_ID = prd.get('href')\n",
    "            product_URL = \"https:\" + product_ID    #get item's URL\n",
    "            products_URL.append(product_URL)\n",
    "        try: \n",
    "            page = driver.find_element_by_xpath('//li[@class = \"ant-pagination-next\"][ @aria-disabled = \"false\"]')\n",
    "            page.click()\n",
    "        except: \n",
    "            break\n",
    "    \n",
    "\n"
   ]
  },
  {
   "cell_type": "code",
   "execution_count": 7,
   "id": "5b9b1461",
   "metadata": {},
   "outputs": [
    {
     "name": "stderr",
     "output_type": "stream",
     "text": [
      "<ipython-input-7-1efd9a002024>:23: DeprecationWarning: find_element_by_* commands are deprecated. Please use find_element() instead\n",
      "  page = driver.find_element_by_xpath('//li[@class = \"ant-pagination-next\"][ @aria-disabled = \"false\"]')\n"
     ]
    }
   ],
   "source": [
    "driver.get('https://www.lazada.vn/catalog/?q=m%C3%A1y+t%C3%ADnh+b%E1%BA%A3ng&_keyori=ss&from=input&spm=a2o4n.searchlistbrand.search.go.6d507a2czSXWat')\n",
    "sleep(5)\n",
    "\n",
    "\n",
    "\n",
    "for i in range(4):\n",
    "    # Scroll down to bottom\n",
    "    driver.execute_script(\"window.scrollTo(0, document.body.scrollHeight-300);\")\n",
    "    \n",
    "    # Wait to load page\n",
    "    sleep(random.randint(10,40))\n",
    "    page_source = BeautifulSoup(driver.page_source,  'html.parser')\n",
    "    products = page_source.find_all('div', class_='Bm3ON')\n",
    "    for product in products:\n",
    "        item_ID = product.get('data-item-id') #get item's ID\n",
    "        if item_ID not in ID_list:\n",
    "            ID_list.append(item_ID)\n",
    "            prd = product.find('a')\n",
    "            product_ID = prd.get('href')\n",
    "            product_URL = \"https:\" + product_ID    #get item's URL\n",
    "            products_URL.append(product_URL)\n",
    "        try: \n",
    "            page = driver.find_element_by_xpath('//li[@class = \"ant-pagination-next\"][ @aria-disabled = \"false\"]')\n",
    "            page.click()\n",
    "        except: \n",
    "            break"
   ]
  },
  {
   "cell_type": "code",
   "execution_count": 8,
   "id": "f8438154",
   "metadata": {},
   "outputs": [],
   "source": [
    "list_name = []\n",
    "list_rate = []\n",
    "list_content = []\n",
    "list_itemid = []"
   ]
  },
  {
   "cell_type": "code",
   "execution_count": null,
   "id": "c0f43a5f",
   "metadata": {},
   "outputs": [],
   "source": [
    "i = 0\n",
    "with open(r'C:\\uyen\\output.csv', 'w', encoding='UTF8',  newline = '') as file_output:\n",
    "    headers = ['Item ID', 'Item Category', 'Item Name', 'Brand Name', 'Item URL', 'Price','Rate', 'Total Reviews', 'Retrieved Date']\n",
    "    writer = csv.DictWriter(file_output, delimiter=',', lineterminator='\\n',fieldnames=headers)\n",
    "    writer.writeheader()\n",
    "    for URL in products_URL:\n",
    "        driver.get(URL)\n",
    "        driver.execute_script(\"window.scrollTo(0, document.body.scrollHeight-300);\")\n",
    "        sleep(random.randint(10,20))\n",
    "        page_source = BeautifulSoup(driver.page_source,  'html.parser')\n",
    "        prd_name = driver.find_element_by_xpath('//h1[@class = \"pdp-mod-product-badge-title\"]').text # get item's name\n",
    "        count = driver.find_elements_by_xpath('//li[@class = \"breadcrumb_item\"]')\n",
    "        prd_category = count[len(count)-2].text\n",
    "        prd_brand = driver.find_element_by_xpath('//a[@class = \"pdp-link pdp-link_size_s pdp-link_theme_blue pdp-product-brand__brand-link\"]').text\n",
    "        prd_price = driver.find_element_by_xpath('//span[@class = \"pdp-price pdp-price_type_normal pdp-price_color_orange pdp-price_size_xl\"]').text\n",
    "        prd_score = driver.find_element_by_xpath('//span[@class = \"score-average\"]').text\n",
    "        viewers = driver.find_element_by_xpath('//a[@class = \"pdp-link pdp-link_size_s pdp-link_theme_blue pdp-review-summary__link\"]').text\n",
    "        today = date.today()\n",
    "        retrived_date = today.strftime(\"%d/%m/%Y\")\n",
    "        if viewers == 'Không có đánh giá':\n",
    "            total_rates = 0\n",
    "        else:\n",
    "            total_rates = int(viewers.replace(' đánh giá', ''))\n",
    "        \n",
    "        prd_price = prd_price[:-2]\n",
    "        prd_price = int(prd_price.replace('.',''))\n",
    "        writer.writerow({headers[0]: int(ID_list[i]),headers[1]: prd_category, headers[2]: prd_name, headers[3]: prd_brand, headers[4]:URL , headers[5]: prd_price, headers[6]: prd_score, headers[7]: total_rates, headers[8]: retrived_date})\n",
    "        \n",
    "        \n",
    "        viewers = page_source.find_all('div', class_='item')\n",
    "        for viewer in viewers:\n",
    "            content = viewer.find('div', class_ = 'content').text\n",
    "            name = viewer.find('div', class_ = \"middle\").text\n",
    "            viewer_name = name.replace('bởi','').replace('Chứng nhận đã mua hàng','')\n",
    "            star = viewer.find_all('img', class_ = 'star')\n",
    "            rate = len(star)\n",
    "            list_name.append(viewer_name)\n",
    "            list_rate.append(rate)\n",
    "            list_content.append(content)\n",
    "            list_itemid.append(ID_list[i])\n",
    "        \n",
    "        \n",
    "        i +=1\n",
    "        print('cào lần thứ ',i)\n",
    "        \n",
    "        \n",
    "    \n",
    "    \n",
    "    \n"
   ]
  },
  {
   "cell_type": "code",
   "execution_count": null,
   "id": "0309c2f7",
   "metadata": {},
   "outputs": [],
   "source": [
    "i = 0\n",
    "with open(r'C:\\uyen\\output2.csv', 'w', encoding='UTF8',  newline = '') as file_output:\n",
    "    headers = ['Name of reviewer', 'rate', 'content', 'ID of item']\n",
    "    writer = csv.DictWriter(file_output, delimiter=',', lineterminator='\\n',fieldnames=headers)\n",
    "    writer.writeheader()\n",
    "    for i in range(len(list_name[i])):\n",
    "        writer.writerow({headers[0]: list_name[i], headers[1]: list_rate[i], headers[2]: list_content[i]}, headers[3]: list_itemid[i])\n",
    "        print(i)"
   ]
  }
 ],
 "metadata": {
  "kernelspec": {
   "display_name": "Python 3",
   "language": "python",
   "name": "python3"
  },
  "language_info": {
   "codemirror_mode": {
    "name": "ipython",
    "version": 3
   },
   "file_extension": ".py",
   "mimetype": "text/x-python",
   "name": "python",
   "nbconvert_exporter": "python",
   "pygments_lexer": "ipython3",
   "version": "3.8.8"
  }
 },
 "nbformat": 4,
 "nbformat_minor": 5
}
